{
  "nbformat": 4,
  "nbformat_minor": 0,
  "metadata": {
    "colab": {
      "name": "ConcatenateDatas.ipynb",
      "provenance": []
    },
    "kernelspec": {
      "name": "python3",
      "display_name": "Python 3"
    },
    "language_info": {
      "name": "python"
    }
  },
  "cells": [
    {
      "cell_type": "code",
      "execution_count": null,
      "metadata": {
        "id": "tDiofq13O89b"
      },
      "outputs": [],
      "source": [
        "import json\n",
        "\n",
        "with open(\"/content/whole_train_dataset.json\") as train_whole:\n",
        "  whole_train = json.load(train_whole)\n",
        "with open(\"/content/train-v2.0.json\") as train_eng:\n",
        "  eng_train = json.load(train_eng)\n",
        "with open(\"/content/whole_dev_dataset.json\") as dev_eng:\n",
        "  eng_dev = json.load(dev_eng)\n",
        "with open(\"/content/dev-v2.0.json\") as dev_tr:\n",
        "  whole_dev = json.load(dev_tr)"
      ]
    },
    {
      "cell_type": "code",
      "source": [
        "tr_train_data = whole_train[\"data\"]\n",
        "eng_train_data = eng_train[\"data\"]\n",
        "tr_dev_data = whole_dev[\"data\"]\n",
        "eng_dev_data = eng_dev[\"data\"]"
      ],
      "metadata": {
        "id": "Z219oaLkQarQ"
      },
      "execution_count": null,
      "outputs": []
    },
    {
      "cell_type": "code",
      "source": [
        "mixed_train_data = tr_train_data + eng_train_data\n",
        "mixed_dev_data = tr_dev_data + eng_dev_data"
      ],
      "metadata": {
        "id": "HaLvikZRQ0z7"
      },
      "execution_count": null,
      "outputs": []
    },
    {
      "cell_type": "code",
      "source": [
        "mixed_train = {\"version\":\"v0.1\"}\n",
        "mixed_train[\"data\"] = mixed_train_data\n",
        "mixed_dev = {\"version\":\"v0.1\"}\n",
        "mixed_dev[\"data\"] = mixed_dev_data"
      ],
      "metadata": {
        "id": "fX5HGDFuXBDh"
      },
      "execution_count": null,
      "outputs": []
    },
    {
      "cell_type": "code",
      "source": [
        "mixed_dev.keys()"
      ],
      "metadata": {
        "colab": {
          "base_uri": "https://localhost:8080/"
        },
        "id": "PkWYIuRiXbPq",
        "outputId": "0a584d00-7042-480c-bf47-dc5210e253bb"
      },
      "execution_count": null,
      "outputs": [
        {
          "output_type": "execute_result",
          "data": {
            "text/plain": [
              "dict_keys(['version', 'data'])"
            ]
          },
          "metadata": {},
          "execution_count": 15
        }
      ]
    },
    {
      "cell_type": "code",
      "source": [
        "with open(\"/content/mixed_train_dataset.json\",\"w\") as mix_t:\n",
        "  json.dump(mixed_train,mix_t)\n",
        "with open(\"/content/mixed_dev_dataset.json\",\"w\") as mix_d:\n",
        "  json.dump(mixed_dev,mix_d)"
      ],
      "metadata": {
        "id": "n4Y29lzIRf_X"
      },
      "execution_count": null,
      "outputs": []
    },
    {
      "cell_type": "code",
      "source": [
        ""
      ],
      "metadata": {
        "id": "CmVP5jxoW6BR"
      },
      "execution_count": null,
      "outputs": []
    }
  ]
}